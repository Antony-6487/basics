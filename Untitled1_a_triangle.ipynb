{
  "nbformat": 4,
  "nbformat_minor": 0,
  "metadata": {
    "colab": {
      "provenance": [],
      "toc_visible": true,
      "authorship_tag": "ABX9TyPVx7+ul7+iqmAeq7J/F/5T",
      "include_colab_link": true
    },
    "kernelspec": {
      "name": "python3",
      "display_name": "Python 3"
    },
    "language_info": {
      "name": "python"
    }
  },
  "cells": [
    {
      "cell_type": "markdown",
      "metadata": {
        "id": "view-in-github",
        "colab_type": "text"
      },
      "source": [
        "<a href=\"https://colab.research.google.com/github/Antony-6487/basics/blob/main/Untitled1_a_triangle.ipynb\" target=\"_parent\"><img src=\"https://colab.research.google.com/assets/colab-badge.svg\" alt=\"Open In Colab\"/></a>"
      ]
    },
    {
      "cell_type": "code",
      "execution_count": 4,
      "metadata": {
        "colab": {
          "base_uri": "https://localhost:8080/"
        },
        "id": "B411TwCF1Hze",
        "outputId": "f320e01c-2c4c-4142-aae3-20a96b9192f7"
      },
      "outputs": [
        {
          "output_type": "stream",
          "name": "stdout",
          "text": [
            "  /  |\n",
            " /   |\n",
            "/___ |\n"
          ]
        }
      ],
      "source": [
        "print('  /  |')\n",
        "print(' /   |')\n",
        "print('/___ |')"
      ]
    },
    {
      "cell_type": "markdown",
      "source": [
        "making a basic calculator"
      ],
      "metadata": {
        "id": "maMUuchT5oHV"
      }
    },
    {
      "cell_type": "markdown",
      "source": [],
      "metadata": {
        "id": "56ryYOq05_hz"
      }
    },
    {
      "cell_type": "code",
      "source": [
        "num1=float(input('enter the first number:'))\n",
        "op=input('enter the operator:')\n",
        "num2=float(input('enter the second number:'))\n",
        "if op==\"+\":\n",
        "    print(num1 + num2)\n",
        "elif op==\"-\":\n",
        "    print(num1-num2)\n",
        "elif op==('/'):\n",
        "    print(num1/num2)\n",
        "elif op==\"*\":\n",
        "    print(num1 * num2)\n",
        "else:\n",
        "  print('invalid operator')\n"
      ],
      "metadata": {
        "colab": {
          "base_uri": "https://localhost:8080/"
        },
        "id": "HqnVTBxI5vVJ",
        "outputId": "c64f37c5-6235-4f52-d8ab-651fbce78d01"
      },
      "execution_count": 5,
      "outputs": [
        {
          "output_type": "stream",
          "name": "stdout",
          "text": [
            "enter the first number:34\n",
            "enter the operator:+\n",
            "enter the second number:36\n",
            "70.0\n"
          ]
        }
      ]
    },
    {
      "cell_type": "markdown",
      "source": [],
      "metadata": {
        "id": "khVcmdxM59Kk"
      }
    }
  ]
}